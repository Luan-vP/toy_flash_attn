{
 "cells": [
  {
   "cell_type": "markdown",
   "metadata": {},
   "source": [
    "# transformer\n",
    "\n",
    "> Functions for calculating k, q, and v values for given prompt words using the weight matrices."
   ]
  },
  {
   "cell_type": "code",
   "execution_count": 1,
   "metadata": {},
   "outputs": [],
   "source": [
    "#| default_exp transformer"
   ]
  },
  {
   "cell_type": "code",
   "execution_count": 2,
   "metadata": {},
   "outputs": [],
   "source": [
    "#| hide\n",
    "from nbdev.showdoc import *"
   ]
  },
  {
   "cell_type": "code",
   "execution_count": 3,
   "metadata": {},
   "outputs": [],
   "source": [
    "#| export\n",
    "def foo(): pass"
   ]
  },
  {
   "cell_type": "code",
   "execution_count": 4,
   "metadata": {},
   "outputs": [],
   "source": [
    "import numpy as np\n",
    "# Dimensions are down first, and then across...\n",
    "\n",
    "NUMBER_OF_INPUT_TOKENS = 5\n",
    "EMBEDDINGS_VECTOR_LENGTHS = 32\n",
    "# X matrix is num_tokens * vector lengths\n",
    "X = np.random.random((NUMBER_OF_INPUT_TOKENS, EMBEDDINGS_VECTOR_LENGTHS))\n",
    "\n",
    "d_k = 64\n",
    "\n",
    "# I don't know that they're necessarily the same size...\n",
    "\n",
    "W_k_dims = (EMBEDDINGS_VECTOR_LENGTHS, d_k)\n",
    "W_v_dims = (EMBEDDINGS_VECTOR_LENGTHS, d_k)\n",
    "W_q_dims = (EMBEDDINGS_VECTOR_LENGTHS, d_k)\n",
    "\n",
    "W_k, W_v, W_q = [np.random.random(dims) for dims in [W_k_dims, W_v_dims, W_q_dims]]"
   ]
  },
  {
   "cell_type": "code",
   "execution_count": 5,
   "metadata": {},
   "outputs": [
    {
     "ename": "NameError",
     "evalue": "name 'K_q' is not defined",
     "output_type": "error",
     "traceback": [
      "\u001b[0;31m---------------------------------------------------------------------------\u001b[0m",
      "\u001b[0;31mNameError\u001b[0m                                 Traceback (most recent call last)",
      "\u001b[1;32m/Users/luan/Developer/ml/toy_flash_attn/nbs/00_transformer.ipynb Cell 6\u001b[0m line \u001b[0;36m1\n\u001b[0;32m----> <a href='vscode-notebook-cell:/Users/luan/Developer/ml/toy_flash_attn/nbs/00_transformer.ipynb#X10sZmlsZQ%3D%3D?line=0'>1</a>\u001b[0m K, V, Q \u001b[39m=\u001b[39m [np\u001b[39m.\u001b[39mmatmul(X, W_k), np\u001b[39m.\u001b[39mmatmul(X, W_v), np\u001b[39m.\u001b[39mmatmul(X, K_q)]\n\u001b[1;32m      <a href='vscode-notebook-cell:/Users/luan/Developer/ml/toy_flash_attn/nbs/00_transformer.ipynb#X10sZmlsZQ%3D%3D?line=2'>3</a>\u001b[0m \u001b[39m# Now for the Z = (Q * K^T)/sqrt(d_k) * V\u001b[39;00m\n\u001b[1;32m      <a href='vscode-notebook-cell:/Users/luan/Developer/ml/toy_flash_attn/nbs/00_transformer.ipynb#X10sZmlsZQ%3D%3D?line=3'>4</a>\u001b[0m \n\u001b[1;32m      <a href='vscode-notebook-cell:/Users/luan/Developer/ml/toy_flash_attn/nbs/00_transformer.ipynb#X10sZmlsZQ%3D%3D?line=4'>5</a>\u001b[0m \u001b[39m# Now for the real magic\u001b[39;00m\n\u001b[1;32m      <a href='vscode-notebook-cell:/Users/luan/Developer/ml/toy_flash_attn/nbs/00_transformer.ipynb#X10sZmlsZQ%3D%3D?line=5'>6</a>\u001b[0m first_matrix \u001b[39m=\u001b[39m np\u001b[39m.\u001b[39mmatmul(Q, np\u001b[39m.\u001b[39mtranspose(K)) \u001b[39m/\u001b[39m np\u001b[39m.\u001b[39msqrt(d_k)\n",
      "\u001b[0;31mNameError\u001b[0m: name 'K_q' is not defined"
     ]
    }
   ],
   "source": [
    "K, V, Q = [np.matmul(X, W_k), np.matmul(X, W_v), np.matmul(X, W_q)]\n",
    "\n",
    "# Now for the Z = (Q * K^T)/sqrt(d_k) * V\n",
    "\n",
    "# Now for the real magic\n",
    "first_matrix = np.matmul(Q, np.transpose(K)) / np.sqrt(d_k)\n",
    "# first_matrix = softmax(first_matrix)\n",
    "\n",
    "Z = np.matmul(first_matrix, V)\n",
    "\n",
    "print(Z)"
   ]
  },
  {
   "cell_type": "code",
   "execution_count": null,
   "metadata": {},
   "outputs": [],
   "source": [
    "#| hide\n",
    "import nbdev; nbdev.nbdev_export()"
   ]
  }
 ],
 "metadata": {
  "kernelspec": {
   "display_name": "python3",
   "language": "python",
   "name": "python3"
  },
  "language_info": {
   "codemirror_mode": {
    "name": "ipython",
    "version": 3
   },
   "file_extension": ".py",
   "mimetype": "text/x-python",
   "name": "python",
   "nbconvert_exporter": "python",
   "pygments_lexer": "ipython3",
   "version": "3.11.4"
  }
 },
 "nbformat": 4,
 "nbformat_minor": 4
}
